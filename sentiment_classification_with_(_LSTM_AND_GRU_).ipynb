{
  "nbformat": 4,
  "nbformat_minor": 0,
  "metadata": {
    "colab": {
      "name": "sentiment classification with ( LSTM AND GRU ).ipynb",
      "provenance": [],
      "collapsed_sections": [],
      "machine_shape": "hm"
    },
    "kernelspec": {
      "name": "python3",
      "display_name": "Python 3"
    },
    "accelerator": "GPU"
  },
  "cells": [
    {
      "cell_type": "code",
      "metadata": {
        "id": "S6VwjQRZ6WqF",
        "colab_type": "code",
        "colab": {}
      },
      "source": [
        "# it is for increasing RAM to 25GB in Google Colab\n",
        "values = []\n",
        "while True:\n",
        "  values.append(\"hari\")"
      ],
      "execution_count": 0,
      "outputs": []
    },
    {
      "cell_type": "markdown",
      "metadata": {
        "id": "P_mjmgEsRZI8",
        "colab_type": "text"
      },
      "source": [
        "# sentiment classification on IMDB dataset"
      ]
    },
    {
      "cell_type": "markdown",
      "metadata": {
        "id": "FqejeWkQRtC5",
        "colab_type": "text"
      },
      "source": [
        " Each movie review is a variable sequence of words and the sentiment of each movie review must be classified."
      ]
    },
    {
      "cell_type": "markdown",
      "metadata": {
        "id": "HUOM3WtsSEdR",
        "colab_type": "text"
      },
      "source": [
        "# Word Embedding\n",
        "\n",
        "a popular technique when working with text called word embedding. This is a technique where words are encoded as real-valued vectors in a high dimensional space, where the similarity between words in terms of meaning translates to closeness in the vector space.\n",
        "\n",
        "Keras provides a convenient way to convert positive integer representations of words into a word embedding by an Embedding layer.\n",
        "\n",
        "We will map each word onto a 32 length real valued vector. We will also limit the total number of words that we are interested in modeling to the 5000 most frequent words, and zero out the rest. Finally, the sequence length (number of words) in each review varies, so we will constrain each review to be 500 words, truncating long reviews and pad the shorter reviews with zero values."
      ]
    },
    {
      "cell_type": "markdown",
      "metadata": {
        "id": "H_7825xJSEk-",
        "colab_type": "text"
      },
      "source": [
        "The first layer is the Embedded layer that uses 32 length vectors to represent each word. The next layer is the LSTM layer with 100 memory units (smart neurons). Finally, because this is a classification problem we use a Dense output layer with a single neuron and a sigmoid activation function to make 0 or 1 predictions for the two classes (good and bad) in the problem.\n",
        "\n",
        "Because it is a binary classification problem, log loss is used as the loss function (binary_crossentropy in Keras). The efficient ADAM optimization algorithm is used. The model is fit for only 2 epochs because it quickly overfits the problem. A large batch size of 64 reviews is used to space out weight updates."
      ]
    },
    {
      "cell_type": "code",
      "metadata": {
        "id": "XJNHggtNTKIi",
        "colab_type": "code",
        "outputId": "4de40a86-0946-4511-ce3e-8f8d529c4807",
        "colab": {
          "base_uri": "https://localhost:8080/",
          "height": 965
        }
      },
      "source": [
        "# lstm for sequence classification in the imdb dataset\n",
        "import numpy\n",
        "from keras.models import Sequential\n",
        "from keras.layers import Dense,LSTM\n",
        "from keras.layers.embeddings import Embedding\n",
        "from keras.preprocessing import sequence\n",
        "from keras.datasets import imdb\n",
        "# fixing random seed for reproducability\n",
        "numpy.random.seed(7) \n",
        "# load the dataset,but keep ony the top n_words ,zero the rest\n",
        "top_words = 5000\n",
        "(X_train,y_train),(X_test,y_test) = imdb.load_data(num_words = top_words)\n",
        "# truncate and pad input seqences\n",
        "max_review_length = 500\n",
        "X_train = sequence.pad_sequences(X_train,maxlen = max_review_length)\n",
        "X_test = sequence.pad_sequences(X_test,maxlen = max_review_length)\n",
        "#creating the model\n",
        "embedding_vector_length = 32\n",
        "model = Sequential()\n",
        "model.add(Embedding(top_words,embedding_vector_length,input_length = max_review_length))\n",
        "model.add(LSTM(100))\n",
        "model.add(Dense(1,activation = 'sigmoid'))\n",
        "model.compile(loss='binary_crossentropy',optimizer = 'adam',metrics = ['accuracy'])\n",
        "print(model.summary())\n",
        "model.fit(X_train,y_train,epochs= 3,batch_size = 64)\n",
        "# final evaluation of the model\n",
        "scores = model.evaluate(X_test,y_test,verbose = 0)\n",
        "print(\"accuracy : %.2f.%%\" % (scores[1] * 100))"
      ],
      "execution_count": 0,
      "outputs": [
        {
          "output_type": "stream",
          "text": [
            "WARNING:tensorflow:From /usr/local/lib/python3.6/dist-packages/keras/backend/tensorflow_backend.py:66: The name tf.get_default_graph is deprecated. Please use tf.compat.v1.get_default_graph instead.\n",
            "\n",
            "WARNING:tensorflow:From /usr/local/lib/python3.6/dist-packages/keras/backend/tensorflow_backend.py:541: The name tf.placeholder is deprecated. Please use tf.compat.v1.placeholder instead.\n",
            "\n",
            "WARNING:tensorflow:From /usr/local/lib/python3.6/dist-packages/keras/backend/tensorflow_backend.py:4432: The name tf.random_uniform is deprecated. Please use tf.random.uniform instead.\n",
            "\n",
            "WARNING:tensorflow:From /usr/local/lib/python3.6/dist-packages/keras/optimizers.py:793: The name tf.train.Optimizer is deprecated. Please use tf.compat.v1.train.Optimizer instead.\n",
            "\n",
            "WARNING:tensorflow:From /usr/local/lib/python3.6/dist-packages/keras/backend/tensorflow_backend.py:3657: The name tf.log is deprecated. Please use tf.math.log instead.\n",
            "\n",
            "WARNING:tensorflow:From /usr/local/lib/python3.6/dist-packages/tensorflow_core/python/ops/nn_impl.py:183: where (from tensorflow.python.ops.array_ops) is deprecated and will be removed in a future version.\n",
            "Instructions for updating:\n",
            "Use tf.where in 2.0, which has the same broadcast rule as np.where\n",
            "Model: \"sequential_1\"\n",
            "_________________________________________________________________\n",
            "Layer (type)                 Output Shape              Param #   \n",
            "=================================================================\n",
            "embedding_1 (Embedding)      (None, 500, 32)           160000    \n",
            "_________________________________________________________________\n",
            "lstm_1 (LSTM)                (None, 100)               53200     \n",
            "_________________________________________________________________\n",
            "dense_1 (Dense)              (None, 1)                 101       \n",
            "=================================================================\n",
            "Total params: 213,301\n",
            "Trainable params: 213,301\n",
            "Non-trainable params: 0\n",
            "_________________________________________________________________\n",
            "None\n",
            "WARNING:tensorflow:From /usr/local/lib/python3.6/dist-packages/keras/backend/tensorflow_backend.py:1033: The name tf.assign_add is deprecated. Please use tf.compat.v1.assign_add instead.\n",
            "\n",
            "WARNING:tensorflow:From /usr/local/lib/python3.6/dist-packages/keras/backend/tensorflow_backend.py:1020: The name tf.assign is deprecated. Please use tf.compat.v1.assign instead.\n",
            "\n",
            "WARNING:tensorflow:From /usr/local/lib/python3.6/dist-packages/keras/backend/tensorflow_backend.py:3005: The name tf.Session is deprecated. Please use tf.compat.v1.Session instead.\n",
            "\n",
            "Epoch 1/3\n",
            "WARNING:tensorflow:From /usr/local/lib/python3.6/dist-packages/keras/backend/tensorflow_backend.py:190: The name tf.get_default_session is deprecated. Please use tf.compat.v1.get_default_session instead.\n",
            "\n",
            "WARNING:tensorflow:From /usr/local/lib/python3.6/dist-packages/keras/backend/tensorflow_backend.py:197: The name tf.ConfigProto is deprecated. Please use tf.compat.v1.ConfigProto instead.\n",
            "\n",
            "WARNING:tensorflow:From /usr/local/lib/python3.6/dist-packages/keras/backend/tensorflow_backend.py:207: The name tf.global_variables is deprecated. Please use tf.compat.v1.global_variables instead.\n",
            "\n",
            "WARNING:tensorflow:From /usr/local/lib/python3.6/dist-packages/keras/backend/tensorflow_backend.py:216: The name tf.is_variable_initialized is deprecated. Please use tf.compat.v1.is_variable_initialized instead.\n",
            "\n",
            "WARNING:tensorflow:From /usr/local/lib/python3.6/dist-packages/keras/backend/tensorflow_backend.py:223: The name tf.variables_initializer is deprecated. Please use tf.compat.v1.variables_initializer instead.\n",
            "\n",
            "25000/25000 [==============================] - 297s 12ms/step - loss: 0.4436 - acc: 0.7868\n",
            "Epoch 2/3\n",
            "25000/25000 [==============================] - 276s 11ms/step - loss: 0.3038 - acc: 0.8761\n",
            "Epoch 3/3\n",
            "25000/25000 [==============================] - 272s 11ms/step - loss: 0.2622 - acc: 0.8973\n",
            "accuracy : 86.20.%\n"
          ],
          "name": "stdout"
        }
      ]
    },
    {
      "cell_type": "markdown",
      "metadata": {
        "id": "iif6nWoC0Rhj",
        "colab_type": "text"
      },
      "source": [
        "# added dense layer with 200 nodes and Dropout with 0.2 \n",
        "# with this configuration accuracy is increased by 1%"
      ]
    },
    {
      "cell_type": "code",
      "metadata": {
        "id": "_VCjJjLr0Px9",
        "colab_type": "code",
        "colab": {
          "base_uri": "https://localhost:8080/",
          "height": 1000
        },
        "outputId": "aa357eae-030a-4e5c-8e92-d7b2e5083b12"
      },
      "source": [
        "# lstm for sequence classification in the imdb dataset\n",
        "import numpy\n",
        "from keras.models import Sequential\n",
        "from keras.layers import Dense,LSTM\n",
        "from keras.layers import Dropout\n",
        "from keras.layers.embeddings import Embedding\n",
        "from keras.preprocessing import sequence\n",
        "from keras.datasets import imdb\n",
        "# fixing random seed for reproducability\n",
        "numpy.random.seed(7) \n",
        "# load the dataset,but keep ony the top n_words ,zero the rest\n",
        "top_words = 5000\n",
        "(X_train,y_train),(X_test,y_test) = imdb.load_data(num_words = top_words)\n",
        "# truncate and pad input seqences\n",
        "max_review_length = 500\n",
        "X_train = sequence.pad_sequences(X_train,maxlen = max_review_length)\n",
        "X_test = sequence.pad_sequences(X_test,maxlen = max_review_length)\n",
        "#creating the model\n",
        "embedding_vector_length = 32\n",
        "model = Sequential()\n",
        "model.add(Embedding(top_words,embedding_vector_length,input_length = max_review_length))\n",
        "model.add(LSTM(100))\n",
        "model.add(Dense(100,activation = 'relu'))\n",
        "model.add(Dropout(0.2))\n",
        "model.add(Dense(1,activation = 'sigmoid'))\n",
        "model.compile(loss='binary_crossentropy',optimizer = 'adam',metrics = ['accuracy'])\n",
        "print(model.summary())\n",
        "model.fit(X_train,y_train,epochs= 3,batch_size = 64)\n",
        "# final evaluation of the model\n",
        "scores = model.evaluate(X_test,y_test,verbose = 0)\n",
        "print(\"accuracy : %.2f.%%\" % (scores[1] * 100))"
      ],
      "execution_count": 2,
      "outputs": [
        {
          "output_type": "stream",
          "text": [
            "WARNING:tensorflow:From /usr/local/lib/python3.6/dist-packages/keras/backend/tensorflow_backend.py:148: The name tf.placeholder_with_default is deprecated. Please use tf.compat.v1.placeholder_with_default instead.\n",
            "\n",
            "WARNING:tensorflow:From /usr/local/lib/python3.6/dist-packages/keras/backend/tensorflow_backend.py:3733: calling dropout (from tensorflow.python.ops.nn_ops) with keep_prob is deprecated and will be removed in a future version.\n",
            "Instructions for updating:\n",
            "Please use `rate` instead of `keep_prob`. Rate should be set to `rate = 1 - keep_prob`.\n",
            "WARNING:tensorflow:From /usr/local/lib/python3.6/dist-packages/keras/optimizers.py:793: The name tf.train.Optimizer is deprecated. Please use tf.compat.v1.train.Optimizer instead.\n",
            "\n",
            "WARNING:tensorflow:From /usr/local/lib/python3.6/dist-packages/keras/backend/tensorflow_backend.py:3657: The name tf.log is deprecated. Please use tf.math.log instead.\n",
            "\n",
            "WARNING:tensorflow:From /usr/local/lib/python3.6/dist-packages/tensorflow_core/python/ops/nn_impl.py:183: where (from tensorflow.python.ops.array_ops) is deprecated and will be removed in a future version.\n",
            "Instructions for updating:\n",
            "Use tf.where in 2.0, which has the same broadcast rule as np.where\n",
            "Model: \"sequential_2\"\n",
            "_________________________________________________________________\n",
            "Layer (type)                 Output Shape              Param #   \n",
            "=================================================================\n",
            "embedding_2 (Embedding)      (None, 500, 32)           160000    \n",
            "_________________________________________________________________\n",
            "lstm_2 (LSTM)                (None, 100)               53200     \n",
            "_________________________________________________________________\n",
            "dense_2 (Dense)              (None, 100)               10100     \n",
            "_________________________________________________________________\n",
            "dropout_1 (Dropout)          (None, 100)               0         \n",
            "_________________________________________________________________\n",
            "dense_3 (Dense)              (None, 1)                 101       \n",
            "=================================================================\n",
            "Total params: 223,401\n",
            "Trainable params: 223,401\n",
            "Non-trainable params: 0\n",
            "_________________________________________________________________\n",
            "None\n",
            "WARNING:tensorflow:From /usr/local/lib/python3.6/dist-packages/keras/backend/tensorflow_backend.py:1033: The name tf.assign_add is deprecated. Please use tf.compat.v1.assign_add instead.\n",
            "\n",
            "WARNING:tensorflow:From /usr/local/lib/python3.6/dist-packages/keras/backend/tensorflow_backend.py:1020: The name tf.assign is deprecated. Please use tf.compat.v1.assign instead.\n",
            "\n",
            "WARNING:tensorflow:From /usr/local/lib/python3.6/dist-packages/keras/backend/tensorflow_backend.py:3005: The name tf.Session is deprecated. Please use tf.compat.v1.Session instead.\n",
            "\n",
            "Epoch 1/3\n",
            "WARNING:tensorflow:From /usr/local/lib/python3.6/dist-packages/keras/backend/tensorflow_backend.py:190: The name tf.get_default_session is deprecated. Please use tf.compat.v1.get_default_session instead.\n",
            "\n",
            "WARNING:tensorflow:From /usr/local/lib/python3.6/dist-packages/keras/backend/tensorflow_backend.py:197: The name tf.ConfigProto is deprecated. Please use tf.compat.v1.ConfigProto instead.\n",
            "\n",
            "WARNING:tensorflow:From /usr/local/lib/python3.6/dist-packages/keras/backend/tensorflow_backend.py:207: The name tf.global_variables is deprecated. Please use tf.compat.v1.global_variables instead.\n",
            "\n",
            "WARNING:tensorflow:From /usr/local/lib/python3.6/dist-packages/keras/backend/tensorflow_backend.py:216: The name tf.is_variable_initialized is deprecated. Please use tf.compat.v1.is_variable_initialized instead.\n",
            "\n",
            "WARNING:tensorflow:From /usr/local/lib/python3.6/dist-packages/keras/backend/tensorflow_backend.py:223: The name tf.variables_initializer is deprecated. Please use tf.compat.v1.variables_initializer instead.\n",
            "\n",
            "25000/25000 [==============================] - 359s 14ms/step - loss: 0.4709 - acc: 0.7626\n",
            "Epoch 2/3\n",
            "25000/25000 [==============================] - 345s 14ms/step - loss: 0.2904 - acc: 0.8812\n",
            "Epoch 3/3\n",
            "25000/25000 [==============================] - 342s 14ms/step - loss: 0.2484 - acc: 0.9029\n",
            "accuracy : 87.23.%\n"
          ],
          "name": "stdout"
        }
      ]
    },
    {
      "cell_type": "markdown",
      "metadata": {
        "id": "u7rCf2iI1bFX",
        "colab_type": "text"
      },
      "source": [
        "# sentiment classification with GRU\n",
        "# removed LSTM layer and added GRU layer"
      ]
    },
    {
      "cell_type": "code",
      "metadata": {
        "id": "JtYUercn1aYA",
        "colab_type": "code",
        "colab": {
          "base_uri": "https://localhost:8080/",
          "height": 801
        },
        "outputId": "be7ec159-29d2-47d3-deda-80d8dda3ddf5"
      },
      "source": [
        "import numpy as np\n",
        "from keras.datasets import imdb\n",
        "from keras.models import Sequential\n",
        "from keras.layers import Dropout,Dense\n",
        "from keras.layers import GRU\n",
        "from keras.layers.embeddings import Embedding\n",
        "from keras.preprocessing import sequence\n",
        "top_words = 5000\n",
        "# loading the dataset\n",
        "(train_x,train_y),(test_x,test_y) = imdb.load_data(num_words = top_words)\n",
        "# truncate and pad input seqences\n",
        "max_review_length = 500\n",
        "X_train = sequence.pad_sequences(train_x,maxlen = max_review_length)\n",
        "X_test = sequence.pad_sequences(test_x,maxlen = max_review_length)\n",
        "#creating the model\n",
        "embedding_vector_length = 32\n",
        "model = Sequential()\n",
        "model.add(Embedding(top_words,embedding_vector_length,input_length = max_review_length))\n",
        "model.add(GRU(100))\n",
        "model.add(Dense(100,activation = 'relu'))\n",
        "model.add(Dropout(0.2))\n",
        "model.add(Dense(1,activation = 'sigmoid'))\n",
        "model.compile(loss='binary_crossentropy',optimizer = 'adam',metrics = ['accuracy'])\n",
        "print(model.summary())\n",
        "model.fit(X_train,train_y,epochs= 3,batch_size = 64)\n",
        "# final evaluation of the model\n",
        "scores = model.evaluate(X_test,test_y,verbose = 0)\n",
        "print(\"accuracy : %.2f.%%\" % (scores[1] * 100))\n"
      ],
      "execution_count": 3,
      "outputs": [
        {
          "output_type": "stream",
          "text": [
            "Model: \"sequential_2\"\n",
            "_________________________________________________________________\n",
            "Layer (type)                 Output Shape              Param #   \n",
            "=================================================================\n",
            "embedding_2 (Embedding)      (None, 500, 32)           160000    \n",
            "_________________________________________________________________\n",
            "gru_2 (GRU)                  (None, 100)               39900     \n",
            "_________________________________________________________________\n",
            "dense_3 (Dense)              (None, 100)               10100     \n",
            "_________________________________________________________________\n",
            "dropout_2 (Dropout)          (None, 100)               0         \n",
            "_________________________________________________________________\n",
            "dense_4 (Dense)              (None, 1)                 101       \n",
            "=================================================================\n",
            "Total params: 210,101\n",
            "Trainable params: 210,101\n",
            "Non-trainable params: 0\n",
            "_________________________________________________________________\n",
            "None\n",
            "WARNING:tensorflow:From /usr/local/lib/python3.6/dist-packages/keras/backend/tensorflow_backend.py:1033: The name tf.assign_add is deprecated. Please use tf.compat.v1.assign_add instead.\n",
            "\n",
            "WARNING:tensorflow:From /usr/local/lib/python3.6/dist-packages/keras/backend/tensorflow_backend.py:1020: The name tf.assign is deprecated. Please use tf.compat.v1.assign instead.\n",
            "\n",
            "WARNING:tensorflow:From /usr/local/lib/python3.6/dist-packages/keras/backend/tensorflow_backend.py:3005: The name tf.Session is deprecated. Please use tf.compat.v1.Session instead.\n",
            "\n",
            "Epoch 1/3\n",
            "WARNING:tensorflow:From /usr/local/lib/python3.6/dist-packages/keras/backend/tensorflow_backend.py:190: The name tf.get_default_session is deprecated. Please use tf.compat.v1.get_default_session instead.\n",
            "\n",
            "WARNING:tensorflow:From /usr/local/lib/python3.6/dist-packages/keras/backend/tensorflow_backend.py:197: The name tf.ConfigProto is deprecated. Please use tf.compat.v1.ConfigProto instead.\n",
            "\n",
            "WARNING:tensorflow:From /usr/local/lib/python3.6/dist-packages/keras/backend/tensorflow_backend.py:207: The name tf.global_variables is deprecated. Please use tf.compat.v1.global_variables instead.\n",
            "\n",
            "WARNING:tensorflow:From /usr/local/lib/python3.6/dist-packages/keras/backend/tensorflow_backend.py:216: The name tf.is_variable_initialized is deprecated. Please use tf.compat.v1.is_variable_initialized instead.\n",
            "\n",
            "WARNING:tensorflow:From /usr/local/lib/python3.6/dist-packages/keras/backend/tensorflow_backend.py:223: The name tf.variables_initializer is deprecated. Please use tf.compat.v1.variables_initializer instead.\n",
            "\n",
            "25000/25000 [==============================] - 313s 13ms/step - loss: 0.4771 - acc: 0.7642\n",
            "Epoch 2/3\n",
            "25000/25000 [==============================] - 306s 12ms/step - loss: 0.2889 - acc: 0.8835\n",
            "Epoch 3/3\n",
            "25000/25000 [==============================] - 310s 12ms/step - loss: 0.2324 - acc: 0.9096\n",
            "accuracy : 87.13.%\n"
          ],
          "name": "stdout"
        }
      ]
    },
    {
      "cell_type": "markdown",
      "metadata": {
        "id": "KJ3-CPR81awD",
        "colab_type": "text"
      },
      "source": [
        ""
      ]
    }
  ]
}